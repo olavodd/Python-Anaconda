{
 "cells": [
  {
   "cell_type": "code",
   "execution_count": 1,
   "id": "c5bc5d26",
   "metadata": {},
   "outputs": [],
   "source": [
    "MyDict = {'Orange':1, 'Blue':2, 'Pink':3}"
   ]
  },
  {
   "cell_type": "code",
   "execution_count": 2,
   "id": "cf038821",
   "metadata": {},
   "outputs": [
    {
     "data": {
      "text/plain": [
       "3"
      ]
     },
     "execution_count": 2,
     "metadata": {},
     "output_type": "execute_result"
    }
   ],
   "source": [
    "MyDict['Pink']"
   ]
  },
  {
   "cell_type": "code",
   "execution_count": 3,
   "id": "028bc82a",
   "metadata": {},
   "outputs": [
    {
     "data": {
      "text/plain": [
       "dict_keys(['Orange', 'Blue', 'Pink'])"
      ]
     },
     "execution_count": 3,
     "metadata": {},
     "output_type": "execute_result"
    }
   ],
   "source": [
    "MyDict.keys()"
   ]
  },
  {
   "cell_type": "code",
   "execution_count": 4,
   "id": "58c3e19c",
   "metadata": {},
   "outputs": [
    {
     "data": {
      "text/plain": [
       "dict_values([1, 2, 3])"
      ]
     },
     "execution_count": 4,
     "metadata": {},
     "output_type": "execute_result"
    }
   ],
   "source": [
    "MyDict.values()"
   ]
  },
  {
   "cell_type": "code",
   "execution_count": null,
   "id": "60a75a9d",
   "metadata": {},
   "outputs": [],
   "source": []
  }
 ],
 "metadata": {
  "kernelspec": {
   "display_name": "Python 3",
   "language": "python",
   "name": "python3"
  },
  "language_info": {
   "codemirror_mode": {
    "name": "ipython",
    "version": 3
   },
   "file_extension": ".py",
   "mimetype": "text/x-python",
   "name": "python",
   "nbconvert_exporter": "python",
   "pygments_lexer": "ipython3",
   "version": "3.8.8"
  }
 },
 "nbformat": 4,
 "nbformat_minor": 5
}
