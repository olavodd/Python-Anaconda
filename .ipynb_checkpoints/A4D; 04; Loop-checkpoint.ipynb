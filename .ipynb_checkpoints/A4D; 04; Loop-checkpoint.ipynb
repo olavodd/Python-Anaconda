{
 "cells": [
  {
   "cell_type": "code",
   "execution_count": 1,
   "id": "d92b5826",
   "metadata": {},
   "outputs": [],
   "source": [
    "def DisplayMulti (*VarArgs):\n",
    "    for Arg in VarArgs:\n",
    "        if Arg.upper () == 'CONT':\n",
    "            continue\n",
    "            print('Continue Argument: ' + Arg)\n",
    "        elif Arg.upper () == 'BREAK':\n",
    "            break\n",
    "            print('Break Argument: ' + Arg)\n",
    "        print('Good Argument: ' + Arg)\n",
    "        "
   ]
  },
  {
   "cell_type": "code",
   "execution_count": 2,
   "id": "1906731a",
   "metadata": {},
   "outputs": [],
   "source": [
    "DisplayMulti('CONT')"
   ]
  },
  {
   "cell_type": "code",
   "execution_count": 3,
   "id": "97ddda27",
   "metadata": {},
   "outputs": [],
   "source": [
    "DisplayMulti ('CONT')"
   ]
  },
  {
   "cell_type": "code",
   "execution_count": 4,
   "id": "cb829335",
   "metadata": {},
   "outputs": [
    {
     "name": "stdout",
     "output_type": "stream",
     "text": [
      "Good Argument: C\n",
      "Good Argument: O\n",
      "Good Argument: N\n",
      "Good Argument: T\n"
     ]
    }
   ],
   "source": [
    "DisplayMulti (*'CONT')"
   ]
  },
  {
   "cell_type": "code",
   "execution_count": null,
   "id": "5daa3758",
   "metadata": {},
   "outputs": [],
   "source": []
  }
 ],
 "metadata": {
  "kernelspec": {
   "display_name": "Python 3",
   "language": "python",
   "name": "python3"
  },
  "language_info": {
   "codemirror_mode": {
    "name": "ipython",
    "version": 3
   },
   "file_extension": ".py",
   "mimetype": "text/x-python",
   "name": "python",
   "nbconvert_exporter": "python",
   "pygments_lexer": "ipython3",
   "version": "3.8.8"
  }
 },
 "nbformat": 4,
 "nbformat_minor": 5
}
