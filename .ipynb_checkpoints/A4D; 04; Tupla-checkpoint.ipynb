{
 "cells": [
  {
   "cell_type": "code",
   "execution_count": 1,
   "id": "b37ed3c7",
   "metadata": {},
   "outputs": [],
   "source": [
    "MyTuple = (1, 2, 3, (4, 5, 6, (7, 8, 9)))"
   ]
  },
  {
   "cell_type": "code",
   "execution_count": 2,
   "id": "7e50bdb5",
   "metadata": {},
   "outputs": [
    {
     "name": "stdout",
     "output_type": "stream",
     "text": [
      "1\n",
      "2\n",
      "3\n",
      "\t 4\n",
      "\t 5\n",
      "\t 6\n",
      "\t\t 7\n",
      "\t\t 8\n",
      "\t\t 9\n"
     ]
    }
   ],
   "source": [
    "for Value1 in MyTuple:\n",
    "    if type(Value1) == int:\n",
    "        print(Value1)\n",
    "    else:\n",
    "        for Value2 in Value1:\n",
    "            if type(Value2) == int:\n",
    "                print(\"\\t\", Value2)\n",
    "            else:\n",
    "                for Value3 in Value2:\n",
    "                    print(\"\\t\\t\", Value3)"
   ]
  },
  {
   "cell_type": "code",
   "execution_count": 13,
   "id": "4633ee47",
   "metadata": {},
   "outputs": [],
   "source": [
    "MyNewTuple = MyTuple.__add__((10, 11, 12, (13, 14, 15)))"
   ]
  },
  {
   "cell_type": "code",
   "execution_count": 14,
   "id": "d795b511",
   "metadata": {},
   "outputs": [
    {
     "name": "stdout",
     "output_type": "stream",
     "text": [
      "1\n",
      "2\n",
      "3\n",
      "\t 4\n",
      "\t 5\n",
      "\t 6\n",
      "\t\t 7\n",
      "\t\t 8\n",
      "\t\t 9\n",
      "10\n",
      "11\n",
      "12\n",
      "\t 13\n",
      "\t 14\n",
      "\t 15\n"
     ]
    }
   ],
   "source": [
    "for Value1 in MyNewTuple:\n",
    "    if type(Value1) == int:\n",
    "        print(Value1)\n",
    "    else:\n",
    "        for Value2 in Value1:\n",
    "            if type(Value2) == int:\n",
    "                print(\"\\t\", Value2)\n",
    "            else:\n",
    "                for Value3 in Value2:\n",
    "                    print(\"\\t\\t\", Value3)"
   ]
  },
  {
   "cell_type": "code",
   "execution_count": null,
   "id": "70091c8c",
   "metadata": {},
   "outputs": [],
   "source": []
  }
 ],
 "metadata": {
  "kernelspec": {
   "display_name": "Python 3",
   "language": "python",
   "name": "python3"
  },
  "language_info": {
   "codemirror_mode": {
    "name": "ipython",
    "version": 3
   },
   "file_extension": ".py",
   "mimetype": "text/x-python",
   "name": "python",
   "nbconvert_exporter": "python",
   "pygments_lexer": "ipython3",
   "version": "3.8.8"
  }
 },
 "nbformat": 4,
 "nbformat_minor": 5
}
