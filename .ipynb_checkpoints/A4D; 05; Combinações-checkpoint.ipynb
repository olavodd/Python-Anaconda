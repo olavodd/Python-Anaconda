{
 "cells": [
  {
   "cell_type": "code",
   "execution_count": 3,
   "id": "8c731611",
   "metadata": {},
   "outputs": [
    {
     "data": {
      "text/plain": [
       "array([1, 3, 2])"
      ]
     },
     "execution_count": 3,
     "metadata": {},
     "output_type": "execute_result"
    }
   ],
   "source": [
    "import numpy as np\n",
    "a = np.array([1, 2, 3])\n",
    "np.random.permutation(a)"
   ]
  },
  {
   "cell_type": "code",
   "execution_count": 4,
   "id": "e8c39eef",
   "metadata": {},
   "outputs": [
    {
     "name": "stdout",
     "output_type": "stream",
     "text": [
      "(1, 2, 3)\n",
      "(1, 3, 2)\n",
      "(2, 1, 3)\n",
      "(2, 3, 1)\n",
      "(3, 1, 2)\n",
      "(3, 2, 1)\n"
     ]
    }
   ],
   "source": [
    "from itertools import permutations\n",
    "\n",
    "a = np.array ([1, 2, 3])\n",
    "\n",
    "for p in permutations (a):\n",
    "    print (p)"
   ]
  },
  {
   "cell_type": "code",
   "execution_count": 14,
   "id": "c61f081c",
   "metadata": {},
   "outputs": [
    {
     "name": "stdout",
     "output_type": "stream",
     "text": [
      "(1, 2)\n",
      "(1, 3)\n",
      "(1, 4)\n",
      "(2, 3)\n",
      "(2, 4)\n",
      "(3, 4)\n"
     ]
    }
   ],
   "source": [
    "from itertools import combinations\n",
    "\n",
    "b = np.array([1, 2, 3, 4])\n",
    "\n",
    "for comb in combinations (b, 2):\n",
    "    print (comb)"
   ]
  },
  {
   "cell_type": "code",
   "execution_count": 28,
   "id": "230aadbe",
   "metadata": {},
   "outputs": [
    {
     "data": {
      "text/plain": [
       "[(2, 4), (3, 4), (2, 3)]"
      ]
     },
     "execution_count": 28,
     "metadata": {},
     "output_type": "execute_result"
    }
   ],
   "source": [
    "pool = []\n",
    "for comb in combinations (b, 2) :\n",
    "    pool.append (comb)\n",
    "\n",
    "import random\n",
    "random.sample (pool, 3)"
   ]
  },
  {
   "cell_type": "code",
   "execution_count": 29,
   "id": "04d29f12",
   "metadata": {},
   "outputs": [
    {
     "data": {
      "text/plain": [
       "array([1, 2, 3, 4, 5, 6, 7])"
      ]
     },
     "execution_count": 29,
     "metadata": {},
     "output_type": "execute_result"
    }
   ],
   "source": [
    "a = np.array([1, 2, 3, 4, 5, 6, 6, 7, 7, 1, 2, 3])\n",
    "b = np.array(list(set(a)))\n",
    "\n",
    "b"
   ]
  },
  {
   "cell_type": "code",
   "execution_count": null,
   "id": "8c862943",
   "metadata": {},
   "outputs": [],
   "source": []
  }
 ],
 "metadata": {
  "kernelspec": {
   "display_name": "Python 3",
   "language": "python",
   "name": "python3"
  },
  "language_info": {
   "codemirror_mode": {
    "name": "ipython",
    "version": 3
   },
   "file_extension": ".py",
   "mimetype": "text/x-python",
   "name": "python",
   "nbconvert_exporter": "python",
   "pygments_lexer": "ipython3",
   "version": "3.8.8"
  }
 },
 "nbformat": 4,
 "nbformat_minor": 5
}
