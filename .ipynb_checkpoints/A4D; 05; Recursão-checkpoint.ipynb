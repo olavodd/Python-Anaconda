{
 "cells": [
  {
   "cell_type": "code",
   "execution_count": 3,
   "id": "720857cc",
   "metadata": {},
   "outputs": [
    {
     "name": "stdout",
     "output_type": "stream",
     "text": [
      "factorial called with n=  5\n",
      "factorial called with n=  4\n",
      "factorial called with n=  3\n",
      "factorial called with n=  2\n",
      "factorial called with n=  1\n",
      "Ending condition met.\n",
      "120\n"
     ]
    }
   ],
   "source": [
    "def factorial(n):\n",
    "    print(\"factorial called with n= \", str(n))\n",
    "    if n == 1 or n == 0:\n",
    "        print(\"Ending condition met.\")\n",
    "        return 1\n",
    "    else:\n",
    "        return n * factorial(n-1)\n",
    "    \n",
    "print(factorial(5))"
   ]
  },
  {
   "cell_type": "code",
   "execution_count": 4,
   "id": "734edb6a",
   "metadata": {},
   "outputs": [
    {
     "name": "stdout",
     "output_type": "stream",
     "text": [
      "factorial called with n=  5\n",
      "factorial called with n=  4\n",
      "factorial called with n=  3\n",
      "factorial called with n=  2\n",
      "factorial called with n=  1\n",
      "Ending condition met.\n",
      "120\n"
     ]
    }
   ],
   "source": [
    "def factorial(n):\n",
    "    print(\"factorial called with n= \", str(n))\n",
    "    if n > 1:\n",
    "        return n * factorial(n-1)\n",
    "    print(\"Ending condition met.\")\n",
    "    return 1\n",
    "\n",
    "print(factorial(5))"
   ]
  },
  {
   "cell_type": "code",
   "execution_count": 8,
   "id": "1f2b1140",
   "metadata": {},
   "outputs": [
    {
     "name": "stdout",
     "output_type": "stream",
     "text": [
      "factorial called with n=  5\n",
      "Curent value of n is  4\n",
      "Curent value of n is  3\n",
      "Curent value of n is  2\n",
      "Curent value of n is  1\n",
      "Ending condition met.\n",
      "120\n"
     ]
    }
   ],
   "source": [
    "def factorial(n):\n",
    "    print(\"factorial called with n= \", str(n))\n",
    "    result = 1\n",
    "    while n > 1:\n",
    "        result = result * n\n",
    "        n = n - 1\n",
    "        print(\"Curent value of n is \", str(n))\n",
    "    print(\"Ending condition met.\")\n",
    "    return result\n",
    "    \n",
    "print(factorial(5))"
   ]
  },
  {
   "cell_type": "code",
   "execution_count": null,
   "id": "29399c82",
   "metadata": {},
   "outputs": [],
   "source": []
  }
 ],
 "metadata": {
  "kernelspec": {
   "display_name": "Python 3",
   "language": "python",
   "name": "python3"
  },
  "language_info": {
   "codemirror_mode": {
    "name": "ipython",
    "version": 3
   },
   "file_extension": ".py",
   "mimetype": "text/x-python",
   "name": "python",
   "nbconvert_exporter": "python",
   "pygments_lexer": "ipython3",
   "version": "3.8.8"
  }
 },
 "nbformat": 4,
 "nbformat_minor": 5
}
