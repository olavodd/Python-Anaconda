{
 "cells": [
  {
   "cell_type": "code",
   "execution_count": 2,
   "id": "aef629e9",
   "metadata": {},
   "outputs": [],
   "source": [
    "import numpy as np\n",
    "myShort = np.short (15)"
   ]
  },
  {
   "cell_type": "code",
   "execution_count": 3,
   "id": "1db155c1",
   "metadata": {},
   "outputs": [
    {
     "name": "stdout",
     "output_type": "stream",
     "text": [
      "15\n"
     ]
    }
   ],
   "source": [
    "print (myShort)"
   ]
  },
  {
   "cell_type": "code",
   "execution_count": 4,
   "id": "f2ec8157",
   "metadata": {},
   "outputs": [
    {
     "name": "stdout",
     "output_type": "stream",
     "text": [
      "1\n",
      "2\n",
      "3\n",
      "4\n"
     ]
    }
   ],
   "source": [
    "myVect = np.array([1, 2, 3, 4])\n",
    "for Value1 in myVect:\n",
    "    print(Value1)"
   ]
  },
  {
   "cell_type": "code",
   "execution_count": 6,
   "id": "91fd52e9",
   "metadata": {},
   "outputs": [
    {
     "name": "stdout",
     "output_type": "stream",
     "text": [
      "1\n",
      "3\n",
      "5\n",
      "7\n",
      "9\n"
     ]
    }
   ],
   "source": [
    "myVect = np.arange(1, 10, 2)\n",
    "for Value1 in myVect:\n",
    "    print(Value1)"
   ]
  },
  {
   "cell_type": "code",
   "execution_count": 7,
   "id": "6008438b",
   "metadata": {},
   "outputs": [
    {
     "name": "stdout",
     "output_type": "stream",
     "text": [
      "1\n",
      "2\n",
      "3\n",
      "4\n"
     ]
    }
   ],
   "source": [
    "myVect2 = np.array (np.int16([1, 2, 3, 4]))\n",
    "for Value2 in myVect2:\n",
    "    print(Value2)"
   ]
  },
  {
   "cell_type": "code",
   "execution_count": 9,
   "id": "707dde53",
   "metadata": {},
   "outputs": [
    {
     "name": "stdout",
     "output_type": "stream",
     "text": [
      "2\n",
      "3\n",
      "4\n",
      "5\n"
     ]
    }
   ],
   "source": [
    "myVect2 = myVect2 + 1\n",
    "for Value2 in myVect2:\n",
    "    print(Value2)"
   ]
  },
  {
   "cell_type": "code",
   "execution_count": 12,
   "id": "9f6467ce",
   "metadata": {},
   "outputs": [
    {
     "data": {
      "text/plain": [
       "array([False,  True, False,  True])"
      ]
     },
     "execution_count": 12,
     "metadata": {},
     "output_type": "execute_result"
    }
   ],
   "source": [
    "a = np.array([1, 2, 3, 4])\n",
    "b = np.array([2, 2, 4, 4])\n",
    "\n",
    "a == b"
   ]
  },
  {
   "cell_type": "code",
   "execution_count": 13,
   "id": "b077af9d",
   "metadata": {},
   "outputs": [
    {
     "data": {
      "text/plain": [
       "array([ True, False, False, False])"
      ]
     },
     "execution_count": 13,
     "metadata": {},
     "output_type": "execute_result"
    }
   ],
   "source": [
    "a = np.array([True, False, True, False])\n",
    "b = np.array([True, True, False, False])\n",
    "\n",
    "np.logical_and(a,b)"
   ]
  },
  {
   "cell_type": "code",
   "execution_count": 14,
   "id": "0832a4d4",
   "metadata": {},
   "outputs": [
    {
     "data": {
      "text/plain": [
       "array([False,  True, False,  True])"
      ]
     },
     "execution_count": 14,
     "metadata": {},
     "output_type": "execute_result"
    }
   ],
   "source": [
    "np.logical_not(a)"
   ]
  },
  {
   "cell_type": "code",
   "execution_count": 15,
   "id": "de6f6856",
   "metadata": {},
   "outputs": [
    {
     "data": {
      "text/plain": [
       "array([False,  True,  True, False])"
      ]
     },
     "execution_count": 15,
     "metadata": {},
     "output_type": "execute_result"
    }
   ],
   "source": [
    "np.logical_xor(a, b)"
   ]
  },
  {
   "cell_type": "code",
   "execution_count": 3,
   "id": "79934fb1",
   "metadata": {},
   "outputs": [
    {
     "data": {
      "text/plain": [
       "array([ 1,  4,  9, 16])"
      ]
     },
     "execution_count": 3,
     "metadata": {},
     "output_type": "execute_result"
    }
   ],
   "source": [
    "Vector = np.array([1, 2, 3, 4])\n",
    "Vector * Vector"
   ]
  },
  {
   "cell_type": "code",
   "execution_count": 4,
   "id": "02a55d00",
   "metadata": {},
   "outputs": [
    {
     "data": {
      "text/plain": [
       "array([ 1,  4,  9, 16])"
      ]
     },
     "execution_count": 4,
     "metadata": {},
     "output_type": "execute_result"
    }
   ],
   "source": [
    "np.multiply(Vector, Vector)"
   ]
  },
  {
   "cell_type": "code",
   "execution_count": 5,
   "id": "e7105a5b",
   "metadata": {},
   "outputs": [
    {
     "data": {
      "text/plain": [
       "30"
      ]
     },
     "execution_count": 5,
     "metadata": {},
     "output_type": "execute_result"
    }
   ],
   "source": [
    "Vector.dot(Vector)"
   ]
  },
  {
   "cell_type": "code",
   "execution_count": null,
   "id": "663512fb",
   "metadata": {},
   "outputs": [],
   "source": []
  }
 ],
 "metadata": {
  "kernelspec": {
   "display_name": "Python 3",
   "language": "python",
   "name": "python3"
  },
  "language_info": {
   "codemirror_mode": {
    "name": "ipython",
    "version": 3
   },
   "file_extension": ".py",
   "mimetype": "text/x-python",
   "name": "python",
   "nbconvert_exporter": "python",
   "pygments_lexer": "ipython3",
   "version": "3.8.8"
  }
 },
 "nbformat": 4,
 "nbformat_minor": 5
}
