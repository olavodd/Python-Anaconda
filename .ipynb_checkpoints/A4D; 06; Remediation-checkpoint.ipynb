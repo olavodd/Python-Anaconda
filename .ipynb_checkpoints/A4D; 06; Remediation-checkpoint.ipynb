{
 "cells": [
  {
   "cell_type": "code",
   "execution_count": 1,
   "id": "ad8590e1",
   "metadata": {},
   "outputs": [
    {
     "name": "stdout",
     "output_type": "stream",
     "text": [
      "   A  B  C\n",
      "0  0  0  0\n",
      "1  0  2  3\n",
      "2  0  3  4\n",
      "3  0  5  1\n",
      "4  0  0  0\n",
      "5  1  2  2\n",
      "6  0  0  0 \n",
      "\n",
      "   A  B  C\n",
      "0  0  0  0\n",
      "1  0  2  3\n",
      "2  0  3  4\n",
      "3  0  5  1\n",
      "5  1  2  2\n"
     ]
    }
   ],
   "source": [
    "import pandas as pd\n",
    "\n",
    "df = pd.DataFrame({'A': [0, 0, 0, 0, 0, 1, 0],\n",
    "                  'B': [0, 2, 3, 5, 0, 2, 0],\n",
    "                  'C': [0, 3, 4, 1, 0, 2, 0]}) #cria um dataframe\n",
    "print(df, \"\\n\")\n",
    "\n",
    "df = df.drop_duplicates() #remove as duplicações de um dataframe\n",
    "print(df)"
   ]
  },
  {
   "cell_type": "code",
   "execution_count": 2,
   "id": "ef98363a",
   "metadata": {},
   "outputs": [
    {
     "name": "stdout",
     "output_type": "stream",
     "text": [
      "      A  B    C\n",
      "0     0  1  NaN\n",
      "1     0  2    3\n",
      "2     1  3    4\n",
      "3  None  4    1 \n",
      "\n",
      "A    0\n",
      "B    2\n",
      "C    2\n",
      "dtype: int32 \n",
      "\n",
      "   A  B  C\n",
      "0  0  1  2\n",
      "1  0  2  3\n",
      "2  1  3  4\n",
      "3  0  4  1\n"
     ]
    }
   ],
   "source": [
    "import numpy as np\n",
    "df = pd.DataFrame({'A': [0, 0, 1, None],\n",
    "                  'B': [1, 2, 3, 4],\n",
    "                  'C': [np.NaN, 3, 4, 1]}, \n",
    "                  dtype =int)\n",
    "print(df, \"\\n\")\n",
    "\n",
    "values = pd.Series(df.mean(), dtype=int) #retorna a média dos números como um valor inteiro\n",
    "print(values, \"\\n\")\n",
    "df = df.fillna(values) #remove os espaços  vazios, os substituindo pela média dos valores\n",
    "print(df)"
   ]
  },
  {
   "cell_type": "code",
   "execution_count": null,
   "id": "f5f95d50",
   "metadata": {},
   "outputs": [],
   "source": []
  }
 ],
 "metadata": {
  "kernelspec": {
   "display_name": "Python 3",
   "language": "python",
   "name": "python3"
  },
  "language_info": {
   "codemirror_mode": {
    "name": "ipython",
    "version": 3
   },
   "file_extension": ".py",
   "mimetype": "text/x-python",
   "name": "python",
   "nbconvert_exporter": "python",
   "pygments_lexer": "ipython3",
   "version": "3.8.8"
  }
 },
 "nbformat": 4,
 "nbformat_minor": 5
}
