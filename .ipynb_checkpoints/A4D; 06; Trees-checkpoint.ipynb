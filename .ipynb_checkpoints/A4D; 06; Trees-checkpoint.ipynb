{
 "cells": [
  {
   "cell_type": "code",
   "execution_count": 3,
   "id": "d47b128a",
   "metadata": {},
   "outputs": [],
   "source": [
    "class binaryTree: #cria a classe Árvore Binária\n",
    "    def __init__(self, nodeData, left=None, right=None): #cria a estrutura básica da árvore, com o armazenamento de dados (nodeData) e as conexões esquerda (left) e direita (right)\n",
    "        self.nodeData = nodeData\n",
    "        self.left = left\n",
    "        self.right = right\n",
    "        \n",
    "    def __str__(self): #cria um metódo para imprimir o conteúdo de nodeData\n",
    "        return str(self.nodeData)"
   ]
  },
  {
   "cell_type": "code",
   "execution_count": 4,
   "id": "b3173921",
   "metadata": {},
   "outputs": [],
   "source": [
    "tree = binaryTree(\"Root\") #cria o nó raiz da árvore (tree)\n",
    "BranchA = binaryTree(\"Branch A\") #cria o ramo A (BranchA)\n",
    "BranchB = binaryTree(\"Branch B\") #cria o ramo B (BranchB)\n",
    "tree.left = BranchA #adiciona o ramo A à esquerda da raiz\n",
    "tree.right = BranchB #adiciona o ramo B à direita da raiz\n",
    "\n",
    "LeafC = binaryTree(\"Leaf C\") #cria a folha C\n",
    "LeafD = binaryTree(\"Leaf D\") #cria a folha D\n",
    "LeafE = binaryTree(\"Leaf E\") #cria a folha E\n",
    "LeafF = binaryTree(\"Leaf F\") #cria a folha F\n",
    "BranchA.left = LeafC #adiciona a folha C à esquerda do ramo A\n",
    "BranchA.right = LeafD #adiciona a folha D à direita do ramo A\n",
    "BranchB.left = LeafE #adiciona a folha E à esquerda do ramo B\n",
    "BranchB.right = LeafF #adiciona a folha F à direita do ramo B"
   ]
  },
  {
   "cell_type": "code",
   "execution_count": 5,
   "id": "592bb570",
   "metadata": {},
   "outputs": [
    {
     "name": "stdout",
     "output_type": "stream",
     "text": [
      "Leaf C\n",
      "Leaf D\n",
      "Branch A\n",
      "Leaf E\n",
      "Leaf F\n",
      "Branch B\n",
      "Root\n"
     ]
    }
   ],
   "source": [
    "def traverse(tree): #percorre a árvore (verificando os links e apuram se realmente funcionam como deve), das folhas até a raiz\n",
    "    if tree.left != None: #percore à esquerda da árvore se não está vazia, começando por \"Leaf C\"\n",
    "        traverse(tree.left)\n",
    "    if tree.right != None: #percore à direita da árvore se não está vazia, começando por \"Leaf D\"\n",
    "        traverse(tree.right)\n",
    "    print(tree.nodeData) #mostra o armazenamento\n",
    "\n",
    "traverse(tree)"
   ]
  },
  {
   "cell_type": "code",
   "execution_count": null,
   "id": "532c10be",
   "metadata": {},
   "outputs": [],
   "source": []
  }
 ],
 "metadata": {
  "kernelspec": {
   "display_name": "Python 3",
   "language": "python",
   "name": "python3"
  },
  "language_info": {
   "codemirror_mode": {
    "name": "ipython",
    "version": 3
   },
   "file_extension": ".py",
   "mimetype": "text/x-python",
   "name": "python",
   "nbconvert_exporter": "python",
   "pygments_lexer": "ipython3",
   "version": "3.8.8"
  }
 },
 "nbformat": 4,
 "nbformat_minor": 5
}
