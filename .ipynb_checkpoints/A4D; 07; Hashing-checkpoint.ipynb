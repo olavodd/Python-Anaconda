{
 "cells": [
  {
   "cell_type": "code",
   "execution_count": 1,
   "id": "950f69bc",
   "metadata": {},
   "outputs": [
    {
     "name": "stdout",
     "output_type": "stream",
     "text": [
      "[105, 31, None, None, None, 5, 6, 22, 23, None, 40, None, 102, None, None]\n"
     ]
    }
   ],
   "source": [
    "#hashing\n",
    "data = [22, 40, 102, 105, 23, 31, 6, 5] # cria uma lista\n",
    "hash_table = [None] * 15 # cria 15 partições por meio de uma tabela de hash com valores nenhum (None)\n",
    "tblLen = len(hash_table) # atribui o comprimento da tabela à variável tblLen\n",
    "\n",
    "def hash_function(value, table_size): # cria uma função de hash com os argumentos valor e tamanho da tabela\n",
    "    return value % table_size # retorna o valor dividido pelo comprimento da tabela (15)\n",
    "\n",
    "for value in data: # executa para cada valor da lista\n",
    "    hash_table[hash_function(value, tblLen)] = value \n",
    "# adiciona cada valor da lista para a tabela, conforme o resto da divisão do valor pelo comprimento da tabela(15)\n",
    "    \n",
    "print(hash_table)"
   ]
  },
  {
   "cell_type": "code",
   "execution_count": 3,
   "id": "4cfe7e02",
   "metadata": {},
   "outputs": [
    {
     "name": "stdout",
     "output_type": "stream",
     "text": [
      "102\n"
     ]
    }
   ],
   "source": [
    "print(hash_table[hash_function(102, tblLen)]) # procura pelo valor 102"
   ]
  },
  {
   "cell_type": "code",
   "execution_count": 5,
   "id": "ee574a90",
   "metadata": {},
   "outputs": [
    {
     "name": "stdout",
     "output_type": "stream",
     "text": [
      "64018\n"
     ]
    }
   ],
   "source": [
    "#hash personalizado\n",
    "from hashlib import md5, sha1 # importa comandos de md5 e sha-1\n",
    "\n",
    "def hash_f(element, i, length): # cria uma função de hash, com os argumentos elemento(valor), i (número) e length (comprimento)\n",
    "    h1 = int(md5(element.encode('ascii')).hexdigest(), 16) # atribui a h1 a codificação MD5\n",
    "    h2 = int(sha1(element.encode('ascii')).hexdigest(), 16) # atribui a h2 a codificação SHA-1\n",
    "    return (h1 + i*h2) % length \n",
    "# retorna um valor equivalente o nº length de caracteres do MD5 mais n i vezes os caracteres do SHA-1\n",
    "\n",
    "print(hash_f('CAT', 1, 10**5))"
   ]
  },
  {
   "cell_type": "code",
   "execution_count": null,
   "id": "a82a78e4",
   "metadata": {},
   "outputs": [],
   "source": []
  }
 ],
 "metadata": {
  "kernelspec": {
   "display_name": "Python 3",
   "language": "python",
   "name": "python3"
  },
  "language_info": {
   "codemirror_mode": {
    "name": "ipython",
    "version": 3
   },
   "file_extension": ".py",
   "mimetype": "text/x-python",
   "name": "python",
   "nbconvert_exporter": "python",
   "pygments_lexer": "ipython3",
   "version": "3.8.8"
  }
 },
 "nbformat": 4,
 "nbformat_minor": 5
}
