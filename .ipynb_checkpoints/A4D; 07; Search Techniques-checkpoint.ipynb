{
 "cells": [
  {
   "cell_type": "code",
   "execution_count": 2,
   "id": "35e7f164",
   "metadata": {},
   "outputs": [
    {
     "name": "stdout",
     "output_type": "stream",
     "text": [
      "Key:  0 Value:  Magenta\n",
      "Key:  1 Value:  Green\n",
      "Key:  2 Value:  Red\n",
      "Key:  3 Value:  White\n",
      "Key:  4 Value:  Yellow\n",
      "Key:  5 Value:  Orange\n",
      "Key:  6 Value:  Teal\n",
      "Key:  7 Value:  Purple\n",
      "Item 3 contains:  White\n",
      "The maximum item is:  (7, 'Purple')\n"
     ]
    }
   ],
   "source": [
    "from bintrees import BinaryTree # importa comandos de árvores de buscas da biblioteca bintrees\n",
    "\n",
    "data = {3:'White', 2:'Red', 1:'Green', 5:'Orange', 4:'Yellow', 7:'Purple', 0:'Magenta'} # define um dicionário\n",
    "\n",
    "tree = BinaryTree(data) # define a árvore formada pelo dicionário.\n",
    "tree.update({6:'Teal'}) # adiciona a chave 6 ao dicionário\n",
    "\n",
    "def displayKeyValue(key, value): # mostra o valor da chave e do valor\n",
    "    print('Key: ', key, 'Value: ', value)\n",
    "    \n",
    "tree.foreach(displayKeyValue) # mostra o valor de cada chave e cada valor\n",
    "print('Item 3 contains: ', tree.get(3)) # mostra o que o 3ª chave contém\n",
    "print('The maximum item is: ', tree.max_item()) # mostra o maior valor"
   ]
  },
  {
   "cell_type": "code",
   "execution_count": 3,
   "id": "64863ee6",
   "metadata": {},
   "outputs": [
    {
     "name": "stdout",
     "output_type": "stream",
     "text": [
      "Key:  0 Value:  Magenta\n",
      "Key:  1 Value:  Green\n",
      "Key:  2 Value:  Red\n",
      "Key:  3 Value:  White\n",
      "Key:  4 Value:  Yellow\n",
      "Key:  5 Value:  Orange\n",
      "Key:  6 Value:  Teal\n",
      "Key:  7 Value:  Purple\n",
      "Item 3 contains:  White\n",
      "The maximum item is:  [(7, 'Purple')]\n"
     ]
    }
   ],
   "source": [
    "import heapq # importa comandos de heaps binários (pilhas binárias)\n",
    "\n",
    "data = {3:'White', 2:'Red', 1:'Green', 5:'Orange', 4:'Yellow', 7:'Purple', 0:'Magenta'} # cria um dicionário\n",
    "\n",
    "heap = [] # cria um heap\n",
    "for key, value in data.items(): # passa por cada chave e cada valor no dicionário\n",
    "    heapq.heappush(heap, (key, value)) # passa cada chave e cada valor para a pilha heap\n",
    "heapq.heappush(heap, (6, 'Teal')) # adiciona a chave 6 com o valor 'Teal' para a pilha heap\n",
    "heap.sort() # ordena a pilha\n",
    "\n",
    "for item in heap: # passa por cada item na pilha\n",
    "    print('Key: ', item[0], 'Value: ', item[1]) # retorna a chave(item[0] e o valor (item[1]))\n",
    "print('Item 3 contains: ', heap[3][1]) # retorna o quarto valor (item[3][1])\n",
    "print('The maximum item is: ', heapq.nlargest(1, heap)) # retorna a maior chave e seu valor"
   ]
  },
  {
   "cell_type": "code",
   "execution_count": null,
   "id": "f5a7c9c8",
   "metadata": {},
   "outputs": [],
   "source": []
  }
 ],
 "metadata": {
  "kernelspec": {
   "display_name": "Python 3",
   "language": "python",
   "name": "python3"
  },
  "language_info": {
   "codemirror_mode": {
    "name": "ipython",
    "version": 3
   },
   "file_extension": ".py",
   "mimetype": "text/x-python",
   "name": "python",
   "nbconvert_exporter": "python",
   "pygments_lexer": "ipython3",
   "version": "3.8.8"
  }
 },
 "nbformat": 4,
 "nbformat_minor": 5
}
