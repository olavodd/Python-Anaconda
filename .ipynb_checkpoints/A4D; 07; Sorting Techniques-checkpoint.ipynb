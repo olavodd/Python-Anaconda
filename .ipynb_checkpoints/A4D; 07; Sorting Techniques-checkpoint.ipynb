{
 "cells": [
  {
   "cell_type": "code",
   "execution_count": 8,
   "id": "7ba48fb7",
   "metadata": {},
   "outputs": [
    {
     "name": "stdout",
     "output_type": "stream",
     "text": [
      "[5, 9, 7, 4, 2, 8, 1, 10, 6, 3]\n",
      "[7, 9, 5, 4, 2, 8, 1, 10, 6, 3]\n",
      "[4, 9, 5, 7, 2, 8, 1, 10, 6, 3]\n",
      "[2, 9, 5, 7, 4, 8, 1, 10, 6, 3]\n",
      "[4, 9, 5, 7, 2, 8, 1, 10, 6, 3]\n",
      "[1, 9, 5, 7, 2, 8, 4, 10, 6, 3]\n",
      "[4, 9, 5, 7, 2, 8, 1, 10, 6, 3]\n",
      "[1, 9, 5, 7, 2, 8, 4, 10, 6, 3]\n",
      "[3, 9, 5, 7, 2, 8, 4, 10, 6, 1]\n",
      "[3, 5, 9, 7, 2, 8, 4, 10, 6, 1]\n",
      "[3, 7, 9, 5, 2, 8, 4, 10, 6, 1]\n",
      "[3, 2, 9, 5, 7, 8, 4, 10, 6, 1]\n",
      "[3, 7, 9, 5, 2, 8, 4, 10, 6, 1]\n",
      "[3, 2, 9, 5, 7, 8, 4, 10, 6, 1]\n",
      "[3, 7, 9, 5, 2, 8, 4, 10, 6, 1]\n",
      "[3, 2, 9, 5, 7, 8, 4, 10, 6, 1]\n",
      "[3, 1, 9, 5, 7, 8, 4, 10, 6, 2]\n",
      "[3, 1, 5, 9, 7, 8, 4, 10, 6, 2]\n",
      "[3, 1, 7, 9, 5, 8, 4, 10, 6, 2]\n",
      "[3, 1, 5, 9, 7, 8, 4, 10, 6, 2]\n",
      "[3, 1, 4, 9, 7, 8, 5, 10, 6, 2]\n",
      "[3, 1, 5, 9, 7, 8, 4, 10, 6, 2]\n",
      "[3, 1, 4, 9, 7, 8, 5, 10, 6, 2]\n",
      "[3, 1, 2, 9, 7, 8, 5, 10, 6, 4]\n",
      "[3, 1, 2, 7, 9, 8, 5, 10, 6, 4]\n",
      "[3, 1, 2, 8, 9, 7, 5, 10, 6, 4]\n",
      "[3, 1, 2, 5, 9, 7, 8, 10, 6, 4]\n",
      "[3, 1, 2, 8, 9, 7, 5, 10, 6, 4]\n",
      "[3, 1, 2, 5, 9, 7, 8, 10, 6, 4]\n",
      "[3, 1, 2, 4, 9, 7, 8, 10, 6, 5]\n",
      "[3, 1, 2, 4, 7, 9, 8, 10, 6, 5]\n",
      "[3, 1, 2, 4, 8, 9, 7, 10, 6, 5]\n",
      "[3, 1, 2, 4, 7, 9, 8, 10, 6, 5]\n",
      "[3, 1, 2, 4, 6, 9, 8, 10, 7, 5]\n",
      "[3, 1, 2, 4, 5, 9, 8, 10, 7, 6]\n",
      "[3, 1, 2, 4, 5, 8, 9, 10, 7, 6]\n",
      "[3, 1, 2, 4, 5, 9, 8, 10, 7, 6]\n",
      "[3, 1, 2, 4, 5, 7, 8, 10, 9, 6]\n",
      "[3, 1, 2, 4, 5, 6, 8, 10, 9, 7]\n",
      "[3, 1, 2, 4, 5, 6, 7, 10, 9, 8]\n",
      "[3, 1, 2, 4, 5, 6, 7, 9, 10, 8]\n",
      "[3, 1, 2, 4, 5, 6, 7, 8, 10, 9]\n",
      "[3, 1, 2, 4, 5, 6, 7, 8, 9, 10]\n"
     ]
    }
   ],
   "source": [
    "#selection sort\n",
    "data = [9, 5, 7, 4, 2, 8, 1, 10, 6, 3] #define a lista de dados\n",
    "\n",
    "for scanIndex in range(len(data)):  #atravessa cada valor na lista e o atribui um índice\n",
    "    minIndex = scanIndex #define o índice como o menor\n",
    "    \n",
    "    for compIndex in range(scanIndex + 1, len(data)): #verifica os proximos valores da lista\n",
    "        if data[compIndex] < data[minIndex]: #verifica se os próximos valores são menores que o do índice atual\n",
    "            minIndex = compIndex #define o menor índice como o próximo\n",
    "            \n",
    "        if minIndex != scanIndex: #verifca se o menor índice é diferente do índice atual\n",
    "            temp = data[scanIndex]\n",
    "            data[scanIndex] = data[minIndex] #verifica se o dado do índice atual e o menor índice é igual ao menor índice próximo e o atual\n",
    "            data[minIndex] = temp\n",
    "            print(data)"
   ]
  },
  {
   "cell_type": "code",
   "execution_count": 4,
   "id": "f6b21d35",
   "metadata": {},
   "outputs": [
    {
     "name": "stdout",
     "output_type": "stream",
     "text": [
      "[5, 9, 7, 4, 2, 8, 1, 10, 6, 3]\n",
      "[5, 7, 9, 4, 2, 8, 1, 10, 6, 3]\n",
      "[4, 5, 7, 9, 2, 8, 1, 10, 6, 3]\n",
      "[2, 4, 5, 7, 9, 8, 1, 10, 6, 3]\n",
      "[2, 4, 5, 7, 8, 9, 1, 10, 6, 3]\n",
      "[1, 2, 4, 5, 7, 8, 9, 10, 6, 3]\n",
      "[1, 2, 4, 5, 7, 8, 9, 10, 6, 3]\n",
      "[1, 2, 4, 5, 6, 7, 8, 9, 10, 3]\n",
      "[1, 2, 3, 4, 5, 6, 7, 8, 9, 10]\n"
     ]
    }
   ],
   "source": [
    "#insertion sort\n",
    "data = [9, 5, 7, 4, 2, 8, 1, 10, 6, 3] # define a lista de dados\n",
    "\n",
    "for scanIndex in range(1, len(data)): # verifica cada valor na lista de dados a partir do índice 1 (5)\n",
    "    temp = data[scanIndex] # define temp como igual ao valor sendo verificado\n",
    "    \n",
    "    minIndex = scanIndex # atribui ao menor valor como o atual\n",
    "    \n",
    "    while minIndex > 0 and temp < data[minIndex - 1]: \n",
    "        # repete o bloco de código enquanto o menor índice é maior que 0 e o valor atual (data[minIndex]) como menor que o valor passado\n",
    "        data[minIndex] = data[minIndex - 1] # define o dado atual como igual ao dado anterior\n",
    "        minIndex -= 1 # reduz um do índice mínimo\n",
    "        \n",
    "    data[minIndex] = temp #atribui a variável temp ao menor valor\n",
    "    print(data)"
   ]
  },
  {
   "cell_type": "code",
   "execution_count": 12,
   "id": "af45ec67",
   "metadata": {},
   "outputs": [],
   "source": [
    "#mergesort\n",
    "data = [9, 5, 7, 4, 2, 8, 1, 10, 6, 3] # define a lista de dados\n",
    "\n",
    "def mergeSort(list): #cria a primeira função de ordenamento mergesort\n",
    "    if len(list) < 2: # determina se o tamanho da lista é menor que 2\n",
    "        return list # retorna a lista\n",
    "    \n",
    "    middle = len(list)//2 # define a metade da lista como o comprimento da lista dividido por 2\n",
    "    \n",
    "    left = mergeSort(list[:middle]) # determina o lado esquerdo da lista como o ínicio da lista até o meio\n",
    "    right = mergeSort(list[middle:]) # define o lado direito da lista como o meio da lista até o final\n",
    "    \n",
    "    print(\"Left side: \", left) # mostra o lado esquerdo da lista\n",
    "    print(\"Right side: \", right) # mostra o lado direito da lista\n",
    "    merged = merge(left, right) # funde os dois lados da lista\n",
    "    print(\"Merged \", merged) # mostra a lista fundida\n",
    "    return merged # retorna a lista completa\n"
   ]
  },
  {
   "cell_type": "code",
   "execution_count": 15,
   "id": "654fa882",
   "metadata": {},
   "outputs": [
    {
     "name": "stdout",
     "output_type": "stream",
     "text": [
      "Left side:  [9]\n",
      "Right side:  [5]\n",
      "Merged  None\n",
      "Left side:  [4]\n",
      "Right side:  [2]\n",
      "Merged  None\n",
      "Left side:  [7]\n",
      "Right side:  None\n"
     ]
    },
    {
     "ename": "TypeError",
     "evalue": "object of type 'NoneType' has no len()",
     "output_type": "error",
     "traceback": [
      "\u001b[1;31m---------------------------------------------------------------------------\u001b[0m",
      "\u001b[1;31mTypeError\u001b[0m                                 Traceback (most recent call last)",
      "\u001b[1;32m<ipython-input-15-6b74dc9c72fd>\u001b[0m in \u001b[0;36m<module>\u001b[1;34m\u001b[0m\n\u001b[0;32m     26\u001b[0m         \u001b[1;32mreturn\u001b[0m \u001b[0mresult\u001b[0m\u001b[1;33m\u001b[0m\u001b[1;33m\u001b[0m\u001b[0m\n\u001b[0;32m     27\u001b[0m \u001b[1;33m\u001b[0m\u001b[0m\n\u001b[1;32m---> 28\u001b[1;33m \u001b[0mmergeSort\u001b[0m\u001b[1;33m(\u001b[0m\u001b[0mdata\u001b[0m\u001b[1;33m)\u001b[0m\u001b[1;33m\u001b[0m\u001b[1;33m\u001b[0m\u001b[0m\n\u001b[0m",
      "\u001b[1;32m<ipython-input-12-f1e080fe4fc6>\u001b[0m in \u001b[0;36mmergeSort\u001b[1;34m(list)\u001b[0m\n\u001b[0;32m      8\u001b[0m     \u001b[0mmiddle\u001b[0m \u001b[1;33m=\u001b[0m \u001b[0mlen\u001b[0m\u001b[1;33m(\u001b[0m\u001b[0mlist\u001b[0m\u001b[1;33m)\u001b[0m\u001b[1;33m//\u001b[0m\u001b[1;36m2\u001b[0m \u001b[1;31m# define a metade da lista como o comprimento da lista dividido por 2\u001b[0m\u001b[1;33m\u001b[0m\u001b[1;33m\u001b[0m\u001b[0m\n\u001b[0;32m      9\u001b[0m \u001b[1;33m\u001b[0m\u001b[0m\n\u001b[1;32m---> 10\u001b[1;33m     \u001b[0mleft\u001b[0m \u001b[1;33m=\u001b[0m \u001b[0mmergeSort\u001b[0m\u001b[1;33m(\u001b[0m\u001b[0mlist\u001b[0m\u001b[1;33m[\u001b[0m\u001b[1;33m:\u001b[0m\u001b[0mmiddle\u001b[0m\u001b[1;33m]\u001b[0m\u001b[1;33m)\u001b[0m \u001b[1;31m# determina o lado esquerdo da lista como o ínicio da lista até o meio\u001b[0m\u001b[1;33m\u001b[0m\u001b[1;33m\u001b[0m\u001b[0m\n\u001b[0m\u001b[0;32m     11\u001b[0m     \u001b[0mright\u001b[0m \u001b[1;33m=\u001b[0m \u001b[0mmergeSort\u001b[0m\u001b[1;33m(\u001b[0m\u001b[0mlist\u001b[0m\u001b[1;33m[\u001b[0m\u001b[0mmiddle\u001b[0m\u001b[1;33m:\u001b[0m\u001b[1;33m]\u001b[0m\u001b[1;33m)\u001b[0m \u001b[1;31m# define o lado direito da lista como o meio da lista até o final\u001b[0m\u001b[1;33m\u001b[0m\u001b[1;33m\u001b[0m\u001b[0m\n\u001b[0;32m     12\u001b[0m \u001b[1;33m\u001b[0m\u001b[0m\n",
      "\u001b[1;32m<ipython-input-12-f1e080fe4fc6>\u001b[0m in \u001b[0;36mmergeSort\u001b[1;34m(list)\u001b[0m\n\u001b[0;32m      9\u001b[0m \u001b[1;33m\u001b[0m\u001b[0m\n\u001b[0;32m     10\u001b[0m     \u001b[0mleft\u001b[0m \u001b[1;33m=\u001b[0m \u001b[0mmergeSort\u001b[0m\u001b[1;33m(\u001b[0m\u001b[0mlist\u001b[0m\u001b[1;33m[\u001b[0m\u001b[1;33m:\u001b[0m\u001b[0mmiddle\u001b[0m\u001b[1;33m]\u001b[0m\u001b[1;33m)\u001b[0m \u001b[1;31m# determina o lado esquerdo da lista como o ínicio da lista até o meio\u001b[0m\u001b[1;33m\u001b[0m\u001b[1;33m\u001b[0m\u001b[0m\n\u001b[1;32m---> 11\u001b[1;33m     \u001b[0mright\u001b[0m \u001b[1;33m=\u001b[0m \u001b[0mmergeSort\u001b[0m\u001b[1;33m(\u001b[0m\u001b[0mlist\u001b[0m\u001b[1;33m[\u001b[0m\u001b[0mmiddle\u001b[0m\u001b[1;33m:\u001b[0m\u001b[1;33m]\u001b[0m\u001b[1;33m)\u001b[0m \u001b[1;31m# define o lado direito da lista como o meio da lista até o final\u001b[0m\u001b[1;33m\u001b[0m\u001b[1;33m\u001b[0m\u001b[0m\n\u001b[0m\u001b[0;32m     12\u001b[0m \u001b[1;33m\u001b[0m\u001b[0m\n\u001b[0;32m     13\u001b[0m     \u001b[0mprint\u001b[0m\u001b[1;33m(\u001b[0m\u001b[1;34m\"Left side: \"\u001b[0m\u001b[1;33m,\u001b[0m \u001b[0mleft\u001b[0m\u001b[1;33m)\u001b[0m \u001b[1;31m# mostra o lado esquerdo da lista\u001b[0m\u001b[1;33m\u001b[0m\u001b[1;33m\u001b[0m\u001b[0m\n",
      "\u001b[1;32m<ipython-input-12-f1e080fe4fc6>\u001b[0m in \u001b[0;36mmergeSort\u001b[1;34m(list)\u001b[0m\n\u001b[0;32m     13\u001b[0m     \u001b[0mprint\u001b[0m\u001b[1;33m(\u001b[0m\u001b[1;34m\"Left side: \"\u001b[0m\u001b[1;33m,\u001b[0m \u001b[0mleft\u001b[0m\u001b[1;33m)\u001b[0m \u001b[1;31m# mostra o lado esquerdo da lista\u001b[0m\u001b[1;33m\u001b[0m\u001b[1;33m\u001b[0m\u001b[0m\n\u001b[0;32m     14\u001b[0m     \u001b[0mprint\u001b[0m\u001b[1;33m(\u001b[0m\u001b[1;34m\"Right side: \"\u001b[0m\u001b[1;33m,\u001b[0m \u001b[0mright\u001b[0m\u001b[1;33m)\u001b[0m \u001b[1;31m# mostra o lado direito da lista\u001b[0m\u001b[1;33m\u001b[0m\u001b[1;33m\u001b[0m\u001b[0m\n\u001b[1;32m---> 15\u001b[1;33m     \u001b[0mmerged\u001b[0m \u001b[1;33m=\u001b[0m \u001b[0mmerge\u001b[0m\u001b[1;33m(\u001b[0m\u001b[0mleft\u001b[0m\u001b[1;33m,\u001b[0m \u001b[0mright\u001b[0m\u001b[1;33m)\u001b[0m \u001b[1;31m# funde os dois lados da lista\u001b[0m\u001b[1;33m\u001b[0m\u001b[1;33m\u001b[0m\u001b[0m\n\u001b[0m\u001b[0;32m     16\u001b[0m     \u001b[0mprint\u001b[0m\u001b[1;33m(\u001b[0m\u001b[1;34m\"Merged \"\u001b[0m\u001b[1;33m,\u001b[0m \u001b[0mmerged\u001b[0m\u001b[1;33m)\u001b[0m \u001b[1;31m# mostra a lista fundida\u001b[0m\u001b[1;33m\u001b[0m\u001b[1;33m\u001b[0m\u001b[0m\n\u001b[0;32m     17\u001b[0m     \u001b[1;32mreturn\u001b[0m \u001b[0mmerged\u001b[0m \u001b[1;31m# retorna a lista completa\u001b[0m\u001b[1;33m\u001b[0m\u001b[1;33m\u001b[0m\u001b[0m\n",
      "\u001b[1;32m<ipython-input-15-6b74dc9c72fd>\u001b[0m in \u001b[0;36mmerge\u001b[1;34m(left, right)\u001b[0m\n\u001b[0;32m      3\u001b[0m     \u001b[1;32mif\u001b[0m \u001b[1;32mnot\u001b[0m \u001b[0mlen\u001b[0m\u001b[1;33m(\u001b[0m\u001b[0mleft\u001b[0m\u001b[1;33m)\u001b[0m\u001b[1;33m:\u001b[0m\u001b[1;33m\u001b[0m\u001b[1;33m\u001b[0m\u001b[0m\n\u001b[0;32m      4\u001b[0m         \u001b[1;32mreturn\u001b[0m \u001b[0mleft\u001b[0m\u001b[1;33m\u001b[0m\u001b[1;33m\u001b[0m\u001b[0m\n\u001b[1;32m----> 5\u001b[1;33m     \u001b[1;32mif\u001b[0m \u001b[1;32mnot\u001b[0m \u001b[0mlen\u001b[0m\u001b[1;33m(\u001b[0m\u001b[0mright\u001b[0m\u001b[1;33m)\u001b[0m\u001b[1;33m:\u001b[0m\u001b[1;33m\u001b[0m\u001b[1;33m\u001b[0m\u001b[0m\n\u001b[0m\u001b[0;32m      6\u001b[0m         \u001b[1;32mreturn\u001b[0m \u001b[0mright\u001b[0m\u001b[1;33m\u001b[0m\u001b[1;33m\u001b[0m\u001b[0m\n\u001b[0;32m      7\u001b[0m \u001b[1;33m\u001b[0m\u001b[0m\n",
      "\u001b[1;31mTypeError\u001b[0m: object of type 'NoneType' has no len()"
     ]
    }
   ],
   "source": [
    "## mergesort parte 2\n",
    "def merge(left, right):\n",
    "    if not len(left):\n",
    "        return left\n",
    "    if not len(right):\n",
    "        return right\n",
    "    \n",
    "    result = []\n",
    "    leftIndex = 0\n",
    "    rightIndex = 0\n",
    "    totalLen = len(left) + len(right)\n",
    "    \n",
    "    while (len(result) < totalLen):\n",
    "        \n",
    "        if left[leftIndex] < right[rightIndex]:\n",
    "            result.append(left[leftIndex])\n",
    "            leftIndex += 1\n",
    "        else:\n",
    "            result.append(rightIndex)\n",
    "            rightIndex += 1\n",
    "            \n",
    "        if leftIndex == len(left) or rightIndex == len(right):\n",
    "            result.extend(left[leftIndex:] or right[rightIndex:])\n",
    "            break\n",
    "            \n",
    "        return result\n",
    "    \n",
    "mergeSort(data)"
   ]
  },
  {
   "cell_type": "code",
   "execution_count": 16,
   "id": "fb9226d5",
   "metadata": {},
   "outputs": [],
   "source": [
    "data = [9, 5, 7, 4, 2, 8, 1, 10, 6, 3]\n",
    "\n",
    "def partition(data, left, right):\n",
    "    pivot = data[left]\n",
    "    lIndex = left + 1\n",
    "    rIndex = right + 1\n",
    "    \n",
    "    while True:\n",
    "        while lIndex <= rIndex and data[lIndex] <= pivot:\n",
    "            lIndex += 1\n",
    "        while rIndex >= lIndex and data[rIndex] >= pivot:\n",
    "            rIndex -= 1\n",
    "        if rIndex <= lIndex:\n",
    "            break\n",
    "        data[lIndex], data[rIndex] = data[rIndex], data[lIndex]\n",
    "        print(data)\n",
    "        \n",
    "    data[left], data[rIndex] = data[rIndex], data[left]\n",
    "    print(data)\n",
    "    return rIndex"
   ]
  },
  {
   "cell_type": "code",
   "execution_count": null,
   "id": "bfbba517",
   "metadata": {},
   "outputs": [],
   "source": []
  }
 ],
 "metadata": {
  "kernelspec": {
   "display_name": "Python 3",
   "language": "python",
   "name": "python3"
  },
  "language_info": {
   "codemirror_mode": {
    "name": "ipython",
    "version": 3
   },
   "file_extension": ".py",
   "mimetype": "text/x-python",
   "name": "python",
   "nbconvert_exporter": "python",
   "pygments_lexer": "ipython3",
   "version": "3.8.8"
  }
 },
 "nbformat": 4,
 "nbformat_minor": 5
}
