{
 "cells": [
  {
   "cell_type": "code",
   "execution_count": 1,
   "id": "3e86203a-9a77-47d0-869d-99e0435a55ac",
   "metadata": {},
   "outputs": [
    {
     "data": {
      "text/plain": [
       "matrix([[0., 1., 1., 0., 1., 1.],\n",
       "        [1., 0., 1., 0., 0., 0.],\n",
       "        [1., 1., 0., 1., 0., 0.],\n",
       "        [0., 0., 1., 0., 1., 0.],\n",
       "        [1., 0., 0., 1., 0., 0.],\n",
       "        [1., 0., 0., 0., 0., 0.]])"
      ]
     },
     "execution_count": 1,
     "metadata": {},
     "output_type": "execute_result"
    }
   ],
   "source": [
    "import networkx as nx # importa comandos pra desenhar grafos\n",
    "import matplotlib.pyplot as plt # importa comandos pra visualizar grafos de forma gráfica\n",
    "%matplotlib inline # permite visualizar grafos no notebook mesmo\n",
    "\n",
    "AGraph = nx.Graph() # cria um grafo\n",
    "\n",
    "Nodes = range(1, 6) # cria os nós de 1 a 6\n",
    "Edges = [(1, 2), (2, 3), (3, 4), (4, 5), (1, 3), (1, 5), (1,6)] # cria as arestas\n",
    "\n",
    "AGraph.add_nodes_from(Nodes) # adiciona os nós ao grafo\n",
    "AGraph.add_edges_from(Edges) # adiciona as arestas ao grafo\n",
    "\n",
    "nx.to_numpy_matrix(AGraph) # mostra o grafo em forma de matriz"
   ]
  },
  {
   "cell_type": "code",
   "execution_count": 3,
   "id": "6aac3696-aacd-453b-8984-ae81fbb3354b",
   "metadata": {},
   "outputs": [
    {
     "name": "stdout",
     "output_type": "stream",
     "text": [
      "  (0, 1)\t1\n",
      "  (0, 2)\t1\n",
      "  (0, 4)\t1\n",
      "  (0, 5)\t1\n",
      "  (1, 0)\t1\n",
      "  (1, 2)\t1\n",
      "  (2, 0)\t1\n",
      "  (2, 1)\t1\n",
      "  (2, 3)\t1\n",
      "  (3, 2)\t1\n",
      "  (3, 4)\t1\n",
      "  (4, 0)\t1\n",
      "  (4, 3)\t1\n",
      "  (5, 0)\t1\n"
     ]
    }
   ],
   "source": [
    "print(nx.to_scipy_sparse_matrix(AGraph)) # retorna o grafo na forma de uma matriz esparsa"
   ]
  },
  {
   "cell_type": "code",
   "execution_count": 4,
   "id": "d27836c1-9918-4a89-90bf-00f9748824c0",
   "metadata": {},
   "outputs": [
    {
     "data": {
      "text/plain": [
       "{1: [2, 3, 5, 6], 2: [1, 3], 3: [2, 4, 1], 4: [3, 5], 5: [4, 1], 6: [1]}"
      ]
     },
     "execution_count": 4,
     "metadata": {},
     "output_type": "execute_result"
    }
   ],
   "source": [
    "nx.to_dict_of_lists(AGraph) # retorna o grafo na forma de dicionário, onde as chaves são os nós e os valores as conexões do nó"
   ]
  },
  {
   "cell_type": "code",
   "execution_count": null,
   "id": "05be70ab-e886-4526-b3dd-09253e1c077c",
   "metadata": {},
   "outputs": [],
   "source": []
  }
 ],
 "metadata": {
  "kernelspec": {
   "display_name": "Python 3",
   "language": "python",
   "name": "python3"
  },
  "language_info": {
   "codemirror_mode": {
    "name": "ipython",
    "version": 3
   },
   "file_extension": ".py",
   "mimetype": "text/x-python",
   "name": "python",
   "nbconvert_exporter": "python",
   "pygments_lexer": "ipython3",
   "version": "3.8.8"
  }
 },
 "nbformat": 4,
 "nbformat_minor": 5
}
