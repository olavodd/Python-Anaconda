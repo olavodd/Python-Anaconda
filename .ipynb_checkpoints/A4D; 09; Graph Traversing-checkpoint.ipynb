{
 "cells": [
  {
   "cell_type": "code",
   "execution_count": 1,
   "id": "f248f1f4-936f-45ab-8dd2-ad399dfec563",
   "metadata": {},
   "outputs": [
    {
     "data": {
      "image/png": "[encoded data removed]",
      "text/plain": [
       "<Figure size 432x288 with 1 Axes>"
      ]
     },
     "metadata": {},
     "output_type": "display_data"
    }
   ],
   "source": [
    "grafo = {'A': ['B', 'C'],\n",
    "        'B': ['A', 'C', 'D'],\n",
    "        'C': ['A', 'B', 'D', 'E'],\n",
    "        'D': ['B', 'C', 'E', 'F'],\n",
    "        'E': ['D', 'F'],\n",
    "        'F': ['D', 'E']} # cria um dicionário, onde as chaves são os nós e os valores as conexões\n",
    "\n",
    "import numpy as np # importa comandos numpý\n",
    "import networkx as nx # importa comandos de grafos\n",
    "import matplotlib.pyplot as plt # importa vizualização de grafos\n",
    "%matplotlib inline\n",
    "\n",
    "Graph = nx.Graph() # cria um grafo\n",
    "\n",
    "for node in grafo: # passa por cada chave no dicionário\n",
    "    Graph.add_nodes_from(node) # adiciona os nós a partir das chaves\n",
    "    for edge in grafo[node]: # passa por cada valor no dicionário\n",
    "        Graph.add_edge(node, edge) # adiciona as arestas a partir dos valores\n",
    "        \n",
    "pos = {'A': [0.00, 0.50], 'B': [0.25, 0.75],\n",
    "      'C': [0.25, 0.25], 'D': [0.75, 0.75],\n",
    "      'E': [0.75, 0.25], 'F': [1.00, 0.50]} # dá as coordenadas x e y de cada aresta\n",
    "\n",
    "nx.draw(Graph, pos, with_labels=True) # desenha um grafo, com as coordenadas dadas\n",
    "nx.draw_networkx(Graph, pos) # passa as coordenadas dadas para o grafo\n",
    "plt.show() # mostra o grafo vizualmente"
   ]
  },
  {
   "cell_type": "code",
   "execution_count": 2,
   "id": "e16a4509-042e-4d2b-812a-9e14fb0d5705",
   "metadata": {},
   "outputs": [
    {
     "name": "stdout",
     "output_type": "stream",
     "text": [
      "Queue is: ['A']\n",
      "Processing A\n",
      "Adding B to the queue\n",
      "Adding C to the queue\n",
      "Queue is: ['B', 'C']\n",
      "Processing B\n",
      "Adding A to the queue\n",
      "Adding D to the queue\n",
      "Queue is: ['C', 'A', 'D']\n",
      "Processing C\n",
      "Adding E to the queue\n",
      "Queue is: ['A', 'D', 'E']\n",
      "Processing A\n",
      "Queue is: ['D', 'E']\n",
      "Processing D\n",
      "Adding F to the queue\n",
      "Queue is: ['E', 'F']\n",
      "Processing E\n",
      "Queue is: ['F']\n",
      "Processing F\n",
      "\n",
      "BFS: ['A>B', 'A>C', 'B>A', 'B>D', 'C>E', 'D>F']\n"
     ]
    }
   ],
   "source": [
    "def bfs(graph, start): # cria uma função para busca em largura do grafo (BFS), com os parâmetros grafo (graph) e começo(start)\n",
    "    queue = [start] # define a fila como o início (queue)\n",
    "    queued = list() # cria uma lista vazia (queued)\n",
    "    path = list() # define o caminha também como uma lista vazia (path)\n",
    "    while queue: # repete toda vez que houver fila\n",
    "        print('Queue is: %s' % queue) #retorna a fila\n",
    "        vertex = queue.pop(0)  # retorna um elemento da lista e remove\n",
    "        print('Processing %s' % vertex) # mostra o elemento removido\n",
    "        for candidate in graph[vertex]: # passa por cada caminho no grafo\n",
    "            if candidate not in queued:  # ocorre se o valor não está na fila\n",
    "                queued.append(candidate) # adiciona o valor à fila\n",
    "                queue.append(candidate) # adiciona o valor à fila\n",
    "                path.append(vertex+'>'+candidate) # adiciona o valor removido e o valor atual ao caminho (path)\n",
    "                print('Adding %s to the queue' % candidate) # retorna o valor adicionado a fila\n",
    "    return path # retorna o cominho que passou\n",
    "steps = bfs(grafo, 'A') # passa pelo grafo, iniciando por A\n",
    "print('\\nBFS:', steps) # mostra o grafo"
   ]
  },
  {
   "cell_type": "code",
   "execution_count": 5,
   "id": "49f24cf3-3cb2-4a58-9184-59ab77e41dc1",
   "metadata": {},
   "outputs": [
    {
     "name": "stdout",
     "output_type": "stream",
     "text": [
      "Stack is: ['A']\n",
      "Processing A\n",
      "Adding B to the stack\n",
      "Adding C to the stack\n",
      "Stack is: ['B', 'C']\n",
      "Processing C\n",
      "Adding D to the stack\n",
      "Adding E to the stack\n",
      "Stack is: ['B', 'D', 'E']\n",
      "Processing E\n",
      "Adding F to the stack\n",
      "Stack is: ['B', 'D', 'F']\n",
      "Processing F\n",
      "Stack is: ['B', 'D']\n",
      "Processing D\n",
      "Stack is: ['B']\n",
      "Processing B\n",
      "\n",
      "DFS: ['A>C', 'C>E', 'E>F', 'C>D', 'A>B']\n"
     ]
    }
   ],
   "source": [
    "def dfs(graph, start): # cria uma função para busca em profundidade do grafo (DFS), com os parâmetros grafo (graph) e começo(start)\n",
    "    stack = [start] # define a pilha como igual ao início (stack)\n",
    "    parents = {start: start} # define o nó pai como igual ao inicial\n",
    "    path = list() # define o caminha também como uma lista vazia (path)\n",
    "    while stack: # repete toda vez que houver pilha\n",
    "        print('Stack is: %s' % stack) #retorna a pilha atual\n",
    "        vertex = stack.pop(-1)  # retorna o último elemento da lista e o remove\n",
    "        print('Processing %s' % vertex) # mostra o elemento removido\n",
    "        for candidate in graph[vertex]: # passa por cada caminho no grafo\n",
    "            if candidate not in parents:  # ocorre se o valor não está na sequência da pilha\n",
    "                parents[candidate] = vertex # define o valor pai como igual ao removido\n",
    "                stack.append(candidate) # adiciona o valor à pilha\n",
    "                print('Adding %s to the stack' % candidate) # retorna o valor adicionado da fila\n",
    "        path.append(parents[vertex]+'>'+vertex) # mostra o valor removido e o atual\n",
    "    return path[1:] # retorna o cominho que passou\n",
    "steps = dfs(grafo, 'A') # passa pelo grafo, iniciando por A\n",
    "print('\\nDFS:', steps) # mostra o grafo"
   ]
  },
  {
   "cell_type": "code",
   "execution_count": null,
   "id": "8130c9ff",
   "metadata": {},
   "outputs": [],
   "source": []
  }
 ],
 "metadata": {
  "kernelspec": {
   "display_name": "Python 3",
   "language": "python",
   "name": "python3"
  },
  "language_info": {
   "codemirror_mode": {
    "name": "ipython",
    "version": 3
   },
   "file_extension": ".py",
   "mimetype": "text/x-python",
   "name": "python",
   "nbconvert_exporter": "python",
   "pygments_lexer": "ipython3",
   "version": "3.8.8"
  }
 },
 "nbformat": 4,
 "nbformat_minor": 5
}
