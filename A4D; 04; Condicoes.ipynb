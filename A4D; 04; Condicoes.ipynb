{
 "cells": [
  {
   "cell_type": "code",
   "execution_count": 6,
   "id": "7cc944a3",
   "metadata": {},
   "outputs": [],
   "source": [
    "def SecretNumber ():\n",
    "    One = int(input(\"Type a number between 1 and 10: \"))\n",
    "    Two = int(input(\"Type a number between 1 and 10: \"))\n",
    "    \n",
    "    if (One >= 1) and (One <= 10):\n",
    "        if (Two >= 1) and (Two <= 10):\n",
    "            print('Your secret number is: ' + str(One + Two))\n",
    "        else:\n",
    "            print(\"Incorrect second value!\")\n",
    "    else:\n",
    "        print(\"Incorrect first value!\")"
   ]
  },
  {
   "cell_type": "code",
   "execution_count": 7,
   "id": "4fb2fa2c",
   "metadata": {},
   "outputs": [
    {
     "name": "stdout",
     "output_type": "stream",
     "text": [
      "Type a number between 1 and 10: 12\n",
      "Type a number between 1 and 10: 4\n",
      "Incorrect first value!\n"
     ]
    }
   ],
   "source": [
    "SecretNumber ()"
   ]
  },
  {
   "cell_type": "code",
   "execution_count": null,
   "id": "0d697527",
   "metadata": {},
   "outputs": [],
   "source": []
  }
 ],
 "metadata": {
  "kernelspec": {
   "display_name": "Python 3",
   "language": "python",
   "name": "python3"
  },
  "language_info": {
   "codemirror_mode": {
    "name": "ipython",
    "version": 3
   },
   "file_extension": ".py",
   "mimetype": "text/x-python",
   "name": "python",
   "nbconvert_exporter": "python",
   "pygments_lexer": "ipython3",
   "version": "3.8.8"
  }
 },
 "nbformat": 4,
 "nbformat_minor": 5
}
