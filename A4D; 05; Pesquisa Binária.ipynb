{
 "cells": [
  {
   "cell_type": "code",
   "execution_count": 8,
   "id": "d0dbaa83",
   "metadata": {},
   "outputs": [],
   "source": [
    "def search(searchList, key): #lista, meio\n",
    "    mid = int(len(searchList) / 2) #retorna a metade dos valores\n",
    "    print(\"Searching midpoint at \", str(searchList[mid])) #retorna o valor mais próximo do meio dos valores\n",
    "    \n",
    "    if mid == 0: #quando a chave não é encontrada\n",
    "        print(\"Key not found!\")\n",
    "        return key\n",
    "    \n",
    "    elif key == searchList[mid]: #quando a chave é igual ao meio, portanto é encontrada\n",
    "        print(\"Key found!\")\n",
    "        return searchList[mid] #retorna o meio\n",
    "    \n",
    "    elif key > searchList[mid]: # quando a chave é maior que o meio\n",
    "        print(\"searchList now contains \", searchList[mid:len(searchList)]) #retorna o vetor que vai do meio ao final do vetor original.\n",
    "        search(searchList[mid:len(searchList)], key) #retorna ao inicío da função\n",
    "        \n",
    "    else: #quando a chave é menor que o meio\n",
    "        print(\"searchList now contains \", searchList[0:mid]) #retorna o vetor que vai do início ao meio do original\n",
    "        search(searchList[0:mid], key) #retorna ao inicío da função\n",
    "        \n",
    "aList = list(range(1, 21)) #cria uma lista que vai do 1 ao 20"
   ]
  },
  {
   "cell_type": "code",
   "execution_count": 9,
   "id": "4c8456ef",
   "metadata": {},
   "outputs": [
    {
     "name": "stdout",
     "output_type": "stream",
     "text": [
      "Searching midpoint at  11\n",
      "searchList now contains  [1, 2, 3, 4, 5, 6, 7, 8, 9, 10]\n",
      "Searching midpoint at  6\n",
      "searchList now contains  [1, 2, 3, 4, 5]\n",
      "Searching midpoint at  3\n",
      "searchList now contains  [3, 4, 5]\n",
      "Searching midpoint at  4\n",
      "searchList now contains  [4, 5]\n",
      "Searching midpoint at  5\n",
      "Key found!\n"
     ]
    }
   ],
   "source": [
    "search(aList, 5)"
   ]
  },
  {
   "cell_type": "code",
   "execution_count": null,
   "id": "56f0f308",
   "metadata": {},
   "outputs": [],
   "source": []
  }
 ],
 "metadata": {
  "kernelspec": {
   "display_name": "Python 3",
   "language": "python",
   "name": "python3"
  },
  "language_info": {
   "codemirror_mode": {
    "name": "ipython",
    "version": 3
   },
   "file_extension": ".py",
   "mimetype": "text/x-python",
   "name": "python",
   "nbconvert_exporter": "python",
   "pygments_lexer": "ipython3",
   "version": "3.8.8"
  }
 },
 "nbformat": 4,
 "nbformat_minor": 5
}
