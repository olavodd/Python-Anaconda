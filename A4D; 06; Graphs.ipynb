{
 "cells": [
  {
   "cell_type": "code",
   "execution_count": 1,
   "id": "5a77e8ec",
   "metadata": {},
   "outputs": [],
   "source": [
    "graph = {'A': ['B', 'F'], #cria um grafo, ligando a chave com seus valores\n",
    "        'B': ['A', 'C'],\n",
    "        'C': ['B', 'D'],\n",
    "        'D': ['C', 'E'],\n",
    "        'E': ['D', 'F'],\n",
    "        'F': ['E', 'A']}"
   ]
  },
  {
   "cell_type": "code",
   "execution_count": 2,
   "id": "82dd0291",
   "metadata": {},
   "outputs": [
    {
     "name": "stdout",
     "output_type": "stream",
     "text": [
      "Checking Node  A\n",
      "Path so far  ['B']\n",
      "Checking Node  B\n",
      "Checking Node  F\n",
      "Path so far  ['B', 'A']\n",
      "Checking Node  E\n",
      "Path so far  ['B', 'A', 'F']\n",
      "Ending\n"
     ]
    },
    {
     "data": {
      "text/plain": [
       "['B', 'A', 'F', 'E']"
      ]
     },
     "execution_count": 2,
     "metadata": {},
     "output_type": "execute_result"
    }
   ],
   "source": [
    "def find_path(graph, start, end, path=[]): #define como percorrer o grafo\n",
    "    path = path + [start] #define o caminho, passa para as conexões\n",
    "    \n",
    "    if start == end: #define se chegou ao fim (E) e mostra que está finalizando\n",
    "        print('Ending')\n",
    "        return path #retorna o caminho percorido (graph)\n",
    "    \n",
    "    for node in graph[start]:  #executado se o grafo não terminou\n",
    "        print(\"Checking Node \", node) #verifica aonde está agora\n",
    "        \n",
    "        if node not in path: #executa se os nós não estão mais no caminho\n",
    "            print(\"Path so far \", path) #retorna o caminho percorrido\n",
    "            \n",
    "            newp = find_path(graph, node, end, path) #define a variável newp como igual à função\n",
    "            if newp:\n",
    "                return newp #retorna o caminho\n",
    "            \n",
    "find_path(graph, 'B', 'E') #define o grafo (graph), o início (B) e o fim (E)"
   ]
  },
  {
   "cell_type": "code",
   "execution_count": null,
   "id": "00842a92",
   "metadata": {},
   "outputs": [],
   "source": []
  }
 ],
 "metadata": {
  "kernelspec": {
   "display_name": "Python 3",
   "language": "python",
   "name": "python3"
  },
  "language_info": {
   "codemirror_mode": {
    "name": "ipython",
    "version": 3
   },
   "file_extension": ".py",
   "mimetype": "text/x-python",
   "name": "python",
   "nbconvert_exporter": "python",
   "pygments_lexer": "ipython3",
   "version": "3.8.8"
  }
 },
 "nbformat": 4,
 "nbformat_minor": 5
}
