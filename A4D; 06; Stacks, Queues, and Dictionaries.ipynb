{
 "cells": [
  {
   "cell_type": "code",
   "execution_count": 8,
   "id": "e71e20e5",
   "metadata": {},
   "outputs": [],
   "source": [
    "MyStack = [] #define uma pilha\n",
    "StackSize = 3 #define o tamanho da pilha(3)\n",
    "\n",
    "def DisplayStack(): #mostra a pilha\n",
    "    print(\"Stack currently contains:\")\n",
    "    for Item in MyStack: \n",
    "        print(Item) #para cada item em MyStack, mostra seu valor\n",
    "\n",
    "def Push(Value): #adiciona valores da pilha\n",
    "    if len(MyStack) < StackSize: #determina se a lista (MyStack) é menor que seu tamanho máximo (StackSize)\n",
    "        MyStack.append(Value) #adiciona o valor especificado\n",
    "    else:\n",
    "        print('Stack is full!')\n",
    "        \n",
    "def Pop(): #remove valores da pilha\n",
    "    if len(MyStack) > 0: # determina se a pilha possui itens\n",
    "        print('Popping: ', MyStack.pop()) #remove o último item\n",
    "    else:\n",
    "        print('Stack is empty.')"
   ]
  },
  {
   "cell_type": "code",
   "execution_count": 9,
   "id": "93292072",
   "metadata": {},
   "outputs": [
    {
     "name": "stdout",
     "output_type": "stream",
     "text": [
      "Stack currently contains:\n",
      "1\n",
      "2\n",
      "3\n",
      "Stack is full!\n",
      "Popping:  3\n",
      "Stack currently contains:\n",
      "1\n",
      "2\n",
      "Popping:  2\n",
      "Popping:  1\n",
      "Stack is empty.\n"
     ]
    }
   ],
   "source": [
    "Push(1)\n",
    "Push(2)\n",
    "Push(3)\n",
    "DisplayStack()\n",
    "\n",
    "Push(4)\n",
    "\n",
    "Pop()\n",
    "DisplayStack()\n",
    "\n",
    "Pop()\n",
    "Pop()\n",
    "Pop()"
   ]
  },
  {
   "cell_type": "code",
   "execution_count": 10,
   "id": "3565e156",
   "metadata": {},
   "outputs": [
    {
     "name": "stdout",
     "output_type": "stream",
     "text": [
      "Queue empty:  True\n",
      "Queue full:  True\n",
      "Popping:  1\n",
      "Queue full:  False\n",
      "Popping:  2\n",
      "Popping:  3\n",
      "Queue empty:  True\n"
     ]
    }
   ],
   "source": [
    "import queue #importa a biblioteca queue\n",
    "\n",
    "MyQueue = queue.Queue(3) #cria uma fila de tamanho 3\n",
    "\n",
    "print('Queue empty: ', MyQueue.empty()) #retorna verdadeiro se a pilha está vazia\n",
    "\n",
    "MyQueue.put(1) #adiciona o número 1 ao fim da fila\n",
    "MyQueue.put(2) #adiciona o número 2 ao fim da fila\n",
    "MyQueue.put(3) #adiciona o número 3 ao fim da fila\n",
    "print('Queue full: ', MyQueue.full()) #retorna verdadeiro se a pilha está cheia\n",
    "\n",
    "print(\"Popping: \", MyQueue.get()) #remove o primeiro membro da fila (1)\n",
    "print('Queue full: ', MyQueue.full())\n",
    "\n",
    "print(\"Popping: \", MyQueue.get())\n",
    "print(\"Popping: \", MyQueue.get())\n",
    "print('Queue empty: ', MyQueue.empty())"
   ]
  },
  {
   "cell_type": "code",
   "execution_count": 4,
   "id": "3f97690b",
   "metadata": {},
   "outputs": [
    {
     "name": "stdout",
     "output_type": "stream",
     "text": [
      "Yellow\n",
      "dict_keys(['Sam', 'Amy', 'Sarah'])\n",
      "Sam likes the color Blue.\n",
      "Amy likes the color Red.\n",
      "Sarah likes the color Yellow.\n",
      "{'Amy': 'Red', 'Sarah': 'Purple', 'Harry': 'Orange'}\n"
     ]
    }
   ],
   "source": [
    "Colors = {\"Sam\": \"Blue\", \"Amy\": \"Red\", \"Sarah\": \"Yellow\"} #cria um dicionário {\"Chave\": \"Valor\"}\n",
    "\n",
    "print(Colors[\"Sarah\"]) #mostra o valor da chave \"Sarah\"\n",
    "print(Colors.keys()) # mostra os nomes das chaves\n",
    "\n",
    "for Item in Colors.keys(): #Item = valor, Colors.keys() = chaves\n",
    "    print(\"{0} likes the color {1}.\"\n",
    "         .format(Item, Colors[Item])) # mostra o valor correspondente a cada chave\n",
    "    \n",
    "Colors[\"Sarah\"] = \"Purple\" #altera o valor da chave \"Sarah#\n",
    "Colors.update({\"Harry\": \"Orange\"}) #adiciona a chave \"Harry\"\n",
    "del Colors[\"Sam\"] #deleta a chave \"Sam\" e o seu valor\n",
    "\n",
    "print(Colors) #mostra o dicionário"
   ]
  },
  {
   "cell_type": "code",
   "execution_count": null,
   "id": "125fb4ae",
   "metadata": {},
   "outputs": [],
   "source": []
  }
 ],
 "metadata": {
  "kernelspec": {
   "display_name": "Python 3",
   "language": "python",
   "name": "python3"
  },
  "language_info": {
   "codemirror_mode": {
    "name": "ipython",
    "version": 3
   },
   "file_extension": ".py",
   "mimetype": "text/x-python",
   "name": "python",
   "nbconvert_exporter": "python",
   "pygments_lexer": "ipython3",
   "version": "3.8.8"
  }
 },
 "nbformat": 4,
 "nbformat_minor": 5
}
