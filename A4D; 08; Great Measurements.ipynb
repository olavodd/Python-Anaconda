{
 "cells": [
  {
   "cell_type": "code",
   "execution_count": 2,
   "id": "5319cdf1",
   "metadata": {},
   "outputs": [
    {
     "data": {
      "text/plain": [
       "[{1, 2, 3, 4, 5}, {6}]"
      ]
     },
     "execution_count": 2,
     "metadata": {},
     "output_type": "execute_result"
    }
   ],
   "source": [
    "import networkx as nx # importa comandos para desenhar grafos\n",
    "import matplotlib.pyplot as plt # importa comandos para rotinas de desenhos de grafos\n",
    "%matplotlib inline # permite ver plotagens diretamente no notebook Pythom\n",
    "\n",
    "AGraph = nx.Graph() # cria o grafo (AGraph)\n",
    "\n",
    "Nodes = range(1, 5) # cria os nós de 1 a 5\n",
    "Edges = [(1, 2), (2, 3), (3, 4), (4, 5), (1, 3), (1, 5)] #cria 6 arestas\n",
    "\n",
    "AGraph.add_nodes_from(Nodes) # adiciona os nós ao grafo\n",
    "AGraph.add_edges_from(Edges) # adiciona as arestas ao nó\n",
    "\n",
    "AGraph.add_node(6) # adiciona o nó 6\n",
    "sorted(nx.connected_components(AGraph)) # retorna os nós do grafo de forma ordenada e mostrando os nós conectados."
   ]
  },
  {
   "cell_type": "code",
   "execution_count": 3,
   "id": "3fdd10f4",
   "metadata": {},
   "outputs": [
    {
     "data": {
      "text/plain": [
       "[{1, 2, 3, 4, 5, 6}]"
      ]
     },
     "execution_count": 3,
     "metadata": {},
     "output_type": "execute_result"
    }
   ],
   "source": [
    "AGraph.add_edge(1, 6) # conecta o nó 1 ao 6\n",
    "sorted(nx.connected_components(AGraph))"
   ]
  },
  {
   "cell_type": "code",
   "execution_count": 9,
   "id": "050653a9",
   "metadata": {},
   "outputs": [
    {
     "data": {
      "text/plain": [
       "dict_values([4, 2, 3, 2, 2, 1])"
      ]
     },
     "execution_count": 9,
     "metadata": {},
     "output_type": "execute_result"
    }
   ],
   "source": [
    "dict(nx.degree(AGraph)).values() #retorna o grau de cada nó por ordem de nó"
   ]
  },
  {
   "cell_type": "code",
   "execution_count": 12,
   "id": "2fbfb3a1",
   "metadata": {},
   "outputs": [
    {
     "data": {
      "text/plain": [
       "dict_values([0.16666666666666666, 1.0, 0.3333333333333333, 0, 0, 0])"
      ]
     },
     "execution_count": 12,
     "metadata": {},
     "output_type": "execute_result"
    }
   ],
   "source": [
    "dict(nx.clustering(AGraph)).values()"
   ]
  },
  {
   "cell_type": "code",
   "execution_count": 15,
   "id": "783e88b9",
   "metadata": {},
   "outputs": [
    {
     "data": {
      "image/png": "[encoded data removed]",
      "text/plain": [
       "<Figure size 432x288 with 1 Axes>"
      ]
     },
     "metadata": {},
     "output_type": "display_data"
    }
   ],
   "source": [
    "nx.draw(AGraph, with_labels=True)"
   ]
  },
  {
   "cell_type": "code",
   "execution_count": null,
   "id": "6e6f7d6c",
   "metadata": {},
   "outputs": [],
   "source": []
  }
 ],
 "metadata": {
  "kernelspec": {
   "display_name": "Python 3",
   "language": "python",
   "name": "python3"
  },
  "language_info": {
   "codemirror_mode": {
    "name": "ipython",
    "version": 3
   },
   "file_extension": ".py",
   "mimetype": "text/x-python",
   "name": "python",
   "nbconvert_exporter": "python",
   "pygments_lexer": "ipython3",
   "version": "3.8.8"
  }
 },
 "nbformat": 4,
 "nbformat_minor": 5
}
